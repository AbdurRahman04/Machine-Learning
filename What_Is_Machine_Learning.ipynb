{
 "cells": [
  {
   "cell_type": "markdown",
   "metadata": {},
   "source": [
    "# What Is Machine Learning"
   ]
  },
  {
   "cell_type": "markdown",
   "metadata": {},
   "source": [
    "### Define 01\n",
    "Machine learning is a branch of artificial intelligence (AI) and computer science which focuses on the use of data and algorithms to copy  the way that humans learn, gradually improving its accuracy.\n",
    "### Define 02\n",
    "Field of study tahat gives to computer the ability to learn without being explictly programmed\n",
    "### Define 03\n",
    "As the name suggests machine learning allows machine to learn and make decision smartly \n",
    "In Machine learning machine can learn from the data provided or their own exprience it depends upon the data type of machine learning\n",
    "### Examplpes \n",
    "- Gmail sections \n",
    "- Youtube  vedio Suggestions\n",
    "- E-comerace Website \n",
    "- Medical (Testing of desead in our body and their solution)\n",
    "- Voice assitanat \n",
    "- Cancer diagonoces\n",
    "  ### Genral Steps of machine learning\n",
    "  1: Data\n",
    "  2: Learning\n",
    "  3: Prediction\n",
    "  4: Decision\n",
    "  ### Type of machine learning \n",
    "  #### Supervised learning\n",
    "  #### Unsupervised learning\n",
    "  #### Semisupervised learning\n",
    "  #### Reinforcement learning  \n",
    " "
   ]
  },
  {
   "cell_type": "markdown",
   "metadata": {},
   "source": [
    "## Supervised Learning\n",
    "Supervised learning, also known as supervised machine learning, is defined by its use of labeled datasets to train algorithms that to classify data or predict outcomes accurately. As input data is fed into the model, it adjusts its weights until the model has been fitted appropriately\n",
    "  - Work undersupervision\n",
    "  - Like a teacher teach to student \n",
    "  - Prediction\n",
    "  - Outcomes\n",
    "  #### Steps \n",
    "    - Input Data\n",
    "    - Train Model and learning pattren of data \n",
    "    - prediction \n",
    "    - outcome and report \n",
    "### Type of Supervised learning\n",
    "- Classification (for catagorical data)\n",
    "- Regression(for numerical data) \n",
    "### supervised learning Algorithm \n",
    "- Logistics regression\n",
    "- K- nearest Neighbours (KNN)\n",
    "- Support vector machine(SVM)\n",
    "- Naive Bayes\n",
    "- Decision Tree Classification\n",
    "- Random Forest Classification\n",
    "\n"
   ]
  },
  {
   "cell_type": "markdown",
   "metadata": {},
   "source": [
    "## Unsupervised Learning\n",
    "### Define \n",
    "Unsupervised learning, also known as unsupervised machine learning, uses machine learning algorithms to analyze and cluster unlabeled datasets. These algorithms discover hidden patterns or data groupings without the need for human intervention. Its ability to discover similarities and differences in information make it the ideal solution for exploratory data analysis, cross-selling strategies, customer segmentation, image and pattern recognition. It’s also used to reduce the number of features in a model through the process of dimensionality reduction; principal component analysis (PCA) and singular value decomposition (SVD) are two common approaches for this.\n",
    "- No supervision\n",
    "- No teacher job\n",
    "- Self learning\n",
    "- No labelling of data \n",
    "- Find pattren by it self\n",
    "### Steps\n",
    "- Train Model and learn pattrens of data \n",
    "- Prediction\n",
    "- Out put and  report\n",
    "### Unsupervised learning algorithm\n",
    "- K-mean clustring\n",
    "- Hierarchical Clustring\n",
    "- Probabilistic Clustring\n",
    "\n"
   ]
  },
  {
   "cell_type": "markdown",
   "metadata": {},
   "source": [
    "## Semisupervised Learning\n",
    "Semi-supervised learning offers a happy medium between supervised and unsupervised learning. During training, it uses a smaller labeled data set to guide classification and feature extraction from a larger, unlabeled data set. Semi-supervised learning can solve the problem of having not enough labeled data (or not being able to afford to label enough data) to train a supervised learning algorithm\n",
    "- Mixture of supervised learning and unsupervised learning\n",
    "- some of provided data is labelled and most of data is not labelled \n"
   ]
  },
  {
   "cell_type": "markdown",
   "metadata": {},
   "source": [
    "## Reinforcement Learning\n",
    "Reinforcement machine learning is a behavioral machine learning model that is similar to supervised learning, but the algorithm isn’t trained using sample data. This model learns as it goes by using trial and error. A sequence of successful outcomes will be reinforced to develop the best recommendation or policy for a given problem\n",
    "- Hit and  trail learning\n",
    "- Learn from Mistake \n",
    "- Reward and punishment rule \n",
    "- Prediction based on reward and punishmnet\n",
    "- Depend on feedback\n",
    "### Reinforcement learning algorithm \n",
    "- Model free Reinforcement learning\n",
    "  - Q learning \n",
    "\n",
    "- Model-based reinforcement learning\n",
    "    - learn the model\n",
    "    - given the model \n",
    "  "
   ]
  }
 ],
 "metadata": {
  "language_info": {
   "name": "python"
  },
  "orig_nbformat": 4
 },
 "nbformat": 4,
 "nbformat_minor": 2
}
